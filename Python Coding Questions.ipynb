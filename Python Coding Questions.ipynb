{
 "cells": [
  {
   "cell_type": "markdown",
   "id": "620ca768",
   "metadata": {},
   "source": [
    "# List:"
   ]
  },
  {
   "cell_type": "code",
   "execution_count": 1,
   "id": "95bac9c4",
   "metadata": {},
   "outputs": [
    {
     "data": {
      "text/plain": [
       "[500, 400, 300, 200, 100]"
      ]
     },
     "execution_count": 1,
     "metadata": {},
     "output_type": "execute_result"
    }
   ],
   "source": [
    "# Reverse a list in Python\n",
    "list1 = [100, 200, 300, 400, 500]\n",
    "left = 0\n",
    "right = len(list1) - 1\n",
    "while left < right:\n",
    "    list1[left], list1[right] = list1[right], list1[left]\n",
    "    left += 1\n",
    "    right -= 1\n",
    "    \n",
    "list1"
   ]
  },
  {
   "cell_type": "code",
   "execution_count": 2,
   "id": "4e604fd8",
   "metadata": {},
   "outputs": [
    {
     "data": {
      "text/plain": [
       "['My', 'name', 'is', 'Kelly']"
      ]
     },
     "execution_count": 2,
     "metadata": {},
     "output_type": "execute_result"
    }
   ],
   "source": [
    "# Concatenate two lists index-wise\n",
    "list1 = [\"M\", \"na\", \"i\", \"Ke\"]\n",
    "list2 = [\"y\", \"me\", \"s\", \"lly\"]\n",
    "list3 = [(i + j) for i, j in zip(list1, list2)]\n",
    "        \n",
    "        \n",
    "list3"
   ]
  },
  {
   "cell_type": "code",
   "execution_count": 3,
   "id": "f11958d9",
   "metadata": {},
   "outputs": [
    {
     "data": {
      "text/plain": [
       "[1, 4, 9, 16, 25, 36, 49]"
      ]
     },
     "execution_count": 3,
     "metadata": {},
     "output_type": "execute_result"
    }
   ],
   "source": [
    "# Turn every item of a list into its square\n",
    "numbers = [1, 2, 3, 4, 5, 6, 7]\n",
    "square = [i**2 for i in numbers]\n",
    "\n",
    "square"
   ]
  },
  {
   "cell_type": "code",
   "execution_count": 4,
   "id": "74f80be8",
   "metadata": {
    "scrolled": true
   },
   "outputs": [
    {
     "data": {
      "text/plain": [
       "['Hello Dear', 'Hello Sir', 'take Dear', 'take Sir']"
      ]
     },
     "execution_count": 4,
     "metadata": {},
     "output_type": "execute_result"
    }
   ],
   "source": [
    "# Concatenate two lists in the following order\n",
    "list1 = [\"Hello \", \"take \"]\n",
    "list2 = [\"Dear\", \"Sir\"]\n",
    "# ['Hello Dear', 'Hello Sir', 'take Dear', 'take Sir']\n",
    "\n",
    "list3 = []\n",
    "for i in list1:\n",
    "    for j in list2:\n",
    "        list3.append(i + j)\n",
    "        \n",
    "list3"
   ]
  },
  {
   "cell_type": "code",
   "execution_count": 5,
   "id": "a7acaf21",
   "metadata": {},
   "outputs": [
    {
     "name": "stdout",
     "output_type": "stream",
     "text": [
      "10 400\n",
      "20 300\n",
      "30 200\n",
      "40 100\n"
     ]
    }
   ],
   "source": [
    "# Iterate both lists simultaneously\n",
    "\"\"\"Given a two Python list. Write a program to iterate both lists simultaneously and \n",
    "display items from list1 in original order and items from list2 in reverse order.\"\"\"\n",
    "\n",
    "list1 = [10, 20, 30, 40]\n",
    "list2 = [100, 200, 300, 400]\n",
    "\n",
    "for i, j in zip(list1, list2[::-1]):\n",
    "    print(i, j)"
   ]
  },
  {
   "cell_type": "code",
   "execution_count": 6,
   "id": "59a0ea56",
   "metadata": {},
   "outputs": [
    {
     "data": {
      "text/plain": [
       "['Mike', 'Emma', 'Kelly', 'Brad']"
      ]
     },
     "execution_count": 6,
     "metadata": {},
     "output_type": "execute_result"
    }
   ],
   "source": [
    "# Remove empty strings from the list of strings\n",
    "list1 = [\"Mike\", \"\", \"Emma\", \"Kelly\", \"\", \"Brad\"]\n",
    "res = list(filter(None, list1))\n",
    "res"
   ]
  },
  {
   "cell_type": "code",
   "execution_count": 7,
   "id": "c7667584",
   "metadata": {},
   "outputs": [
    {
     "data": {
      "text/plain": [
       "[10, 20, [300, 400, [5000, 6000, 7000], 500], 30, 40]"
      ]
     },
     "execution_count": 7,
     "metadata": {},
     "output_type": "execute_result"
    }
   ],
   "source": [
    "# Add new item to list after a specified item\n",
    "# Write a program to add item 7000 after 6000 in the following Python List\n",
    "list1 = [10, 20, [300, 400, [5000, 6000], 500], 30, 40]\n",
    "\n",
    "list1[2][2].append(7000)\n",
    "list1"
   ]
  },
  {
   "cell_type": "code",
   "execution_count": 8,
   "id": "289670c6",
   "metadata": {},
   "outputs": [
    {
     "data": {
      "text/plain": [
       "['a', 'b', ['c', ['d', 'e', ['f', 'g', 'h', 'i', 'j'], 'k'], 'l'], 'm', 'n']"
      ]
     },
     "execution_count": 8,
     "metadata": {},
     "output_type": "execute_result"
    }
   ],
   "source": [
    "# Extend nested list by adding the sublist\n",
    "list1 = [\"a\", \"b\", [\"c\", [\"d\", \"e\", [\"f\", \"g\"], \"k\"], \"l\"], \"m\", \"n\"]\n",
    "\n",
    "# sub list to add\n",
    "sub_list = [\"h\", \"i\", \"j\"]\n",
    "\n",
    "# ['a', 'b', ['c', ['d', 'e', ['f', 'g', 'h', 'i', 'j'], 'k'], 'l'], 'm', 'n']\n",
    "\n",
    "list1[2][1][2].extend(sub_list)\n",
    "list1"
   ]
  },
  {
   "cell_type": "code",
   "execution_count": 9,
   "id": "eb2da3d2",
   "metadata": {},
   "outputs": [
    {
     "data": {
      "text/plain": [
       "[5, 10, 15, 200, 25, 50, 20]"
      ]
     },
     "execution_count": 9,
     "metadata": {},
     "output_type": "execute_result"
    }
   ],
   "source": [
    "# Replace list’s item with new value if found\n",
    "\"\"\"Write a program to find value 20 in the list, \n",
    "and if it is present, replace it with 200. Only update the first occurrence of an item.\"\"\"\n",
    "list1 = [5, 10, 15, 20, 25, 50, 20]\n",
    "\n",
    "idx = list1.index(20)\n",
    "list1[idx] = 200\n",
    "list1"
   ]
  },
  {
   "cell_type": "code",
   "execution_count": 10,
   "id": "2dd36d56",
   "metadata": {},
   "outputs": [
    {
     "data": {
      "text/plain": [
       "[5, 15, 25, 50]"
      ]
     },
     "execution_count": 10,
     "metadata": {},
     "output_type": "execute_result"
    }
   ],
   "source": [
    "# Remove all occurrences of a specific item from a list.\n",
    "# write a program to remove all occurrences of item 20.\n",
    "list1 = [5, 20, 15, 20, 25, 50, 20]\n",
    "for i in list1:\n",
    "    if i == 20:\n",
    "        list1.remove(i)\n",
    "    \n",
    "list1"
   ]
  },
  {
   "cell_type": "code",
   "execution_count": 11,
   "id": "5f799d7c",
   "metadata": {},
   "outputs": [
    {
     "data": {
      "text/plain": [
       "[{'name': 'Gfg', 'id': 3}, {'name': 'is', 'id': 8}]"
      ]
     },
     "execution_count": 11,
     "metadata": {},
     "output_type": "execute_result"
    }
   ],
   "source": [
    "# Convert Lists to List of dictionaries\n",
    "test_list = ['Gfg', 3, 'is', 8]\n",
    "key_list = ['name', 'id'] \n",
    "n = len(test_list)\n",
    "res = [{key_list[0]: test_list[idx], key_list[1]: test_list[idx+1]} for idx in range(0, n, 2)]\n",
    "res"
   ]
  },
  {
   "cell_type": "code",
   "execution_count": 12,
   "id": "89304456",
   "metadata": {},
   "outputs": [
    {
     "data": {
      "text/plain": [
       "{('a', 'b'): (1, 2), ('c', 'd'): (3, 4), ('e', 'f'): (5, 6)}"
      ]
     },
     "execution_count": 12,
     "metadata": {},
     "output_type": "execute_result"
    }
   ],
   "source": [
    "# Convert Lists of List to Dictionary \n",
    "test_list = [['a', 'b', 1, 2], ['c', 'd', 3, 4], ['e', 'f', 5, 6]]\n",
    "res = {tuple(test_list[idx][:2]): tuple(test_list[idx][2:]) for idx in range(len(test_list))}\n",
    "res"
   ]
  },
  {
   "cell_type": "code",
   "execution_count": 13,
   "id": "a161b06f",
   "metadata": {},
   "outputs": [
    {
     "data": {
      "text/plain": [
       "[[5, 6], [5, 7]]"
      ]
     },
     "execution_count": 13,
     "metadata": {},
     "output_type": "execute_result"
    }
   ],
   "source": [
    "# Uncommon elements in Lists of List\n",
    "test_list1 = [ [1, 2], [3, 4], [5, 6] ]\n",
    "test_list2 = [ [3, 4], [5, 7], [1, 2] ]\n",
    "res = []\n",
    "for i in test_list1:\n",
    "    if i not in test_list2:\n",
    "        res.append(i)\n",
    "for j in test_list2:\n",
    "    if j not in test_list1:\n",
    "        res.append(j)\n",
    "        \n",
    "res"
   ]
  },
  {
   "cell_type": "code",
   "execution_count": 14,
   "id": "cd45e2fe",
   "metadata": {},
   "outputs": [
    {
     "data": {
      "text/plain": [
       "[[6, 4, 1], [8, 7], [10, 8, 4]]"
      ]
     },
     "execution_count": 14,
     "metadata": {},
     "output_type": "execute_result"
    }
   ],
   "source": [
    "# Reverse Row sort in Lists of List\n",
    "test_list = [[4, 1, 6], [7, 8], [4, 10, 8]]\n",
    "res = [sorted(sublist, reverse=True) for sublist in test_list]\n",
    "res"
   ]
  },
  {
   "cell_type": "code",
   "execution_count": 15,
   "id": "4e4b8fde",
   "metadata": {},
   "outputs": [
    {
     "data": {
      "text/plain": [
       "[[[4, 6], [5, 6]], [[2, 5], [4, 5]], [[6, 5], [7, 5]]]"
      ]
     },
     "execution_count": 15,
     "metadata": {},
     "output_type": "execute_result"
    }
   ],
   "source": [
    "# Pair elements with Rear element in Matrix Row\n",
    "test_list = [[4, 5, 6], [2, 4, 5], [6, 7, 5]]\n",
    "res = []\n",
    "for sublist in test_list:\n",
    "    res.append([[ele, sublist[-1]] for ele in sublist[:-1]])\n",
    "    \n",
    "res"
   ]
  },
  {
   "cell_type": "code",
   "execution_count": 16,
   "id": "d610659e",
   "metadata": {},
   "outputs": [
    {
     "data": {
      "text/plain": [
       "5"
      ]
     },
     "execution_count": 16,
     "metadata": {},
     "output_type": "execute_result"
    }
   ],
   "source": [
    "# count unique values inside a list\n",
    "input_list = [1, 2, 2, 5, 8, 4, 4, 8]\n",
    "unique_lst = []\n",
    "unique_count = 0\n",
    "for ele in input_list:\n",
    "    if ele not in unique_lst:\n",
    "        unique_lst.append(ele)\n",
    "        unique_count += 1\n",
    "        \n",
    "unique_count"
   ]
  },
  {
   "cell_type": "code",
   "execution_count": 17,
   "id": "c1c0e7ef",
   "metadata": {},
   "outputs": [
    {
     "data": {
      "text/plain": [
       "90"
      ]
     },
     "execution_count": 17,
     "metadata": {},
     "output_type": "execute_result"
    }
   ],
   "source": [
    "# List product excluding duplicates\n",
    "test_list = [1, 3, 5, 6, 3, 5, 6, 1]\n",
    "unique_list = []\n",
    "product = 1\n",
    "for ele in test_list:\n",
    "    if ele not in unique_list:\n",
    "        unique_list.append(ele)\n",
    "for i in unique_list:\n",
    "    product *= i\n",
    "        \n",
    "product"
   ]
  },
  {
   "cell_type": "code",
   "execution_count": 18,
   "id": "52cf9983",
   "metadata": {},
   "outputs": [
    {
     "data": {
      "text/plain": [
       "[4, 3]"
      ]
     },
     "execution_count": 18,
     "metadata": {},
     "output_type": "execute_result"
    }
   ],
   "source": [
    "# Extract elements with Frequency greater than K\n",
    "test_list = [4, 6, 4, 3, 3, 4, 3, 4, 3, 8]\n",
    "k = 3\n",
    "\n",
    "res = []\n",
    "for ele in test_list:\n",
    "    if test_list.count(ele) > k and ele not in res:\n",
    "        res.append(ele)\n",
    "        \n",
    "res"
   ]
  },
  {
   "cell_type": "code",
   "execution_count": 19,
   "id": "bfd3676f",
   "metadata": {},
   "outputs": [
    {
     "data": {
      "text/plain": [
       "False"
      ]
     },
     "execution_count": 19,
     "metadata": {},
     "output_type": "execute_result"
    }
   ],
   "source": [
    "# Test if List contains elements in Range\n",
    "test_list = [4, 5, 6, 7, 3, 10]\n",
    "i, j = 3, 10\n",
    "\n",
    "res = True\n",
    "for ele in test_list:\n",
    "    if ele < i or ele >= j:\n",
    "        res = False\n",
    "        break\n",
    "        \n",
    "res"
   ]
  },
  {
   "cell_type": "code",
   "execution_count": 20,
   "id": "6021b221",
   "metadata": {},
   "outputs": [
    {
     "data": {
      "text/plain": [
       "[1, 22]"
      ]
     },
     "execution_count": 20,
     "metadata": {},
     "output_type": "execute_result"
    }
   ],
   "source": [
    "# check if the list contains three consecutive common numbers \n",
    "list1 = [1, 1, 1, 64, 23, 64, 22, 22, 22]\n",
    "res = []\n",
    "for i in range(len(list1)-2):\n",
    "    if list1[i] == list1[i+1] == list1[i+2]:\n",
    "        res.append(list1[i])\n",
    "        \n",
    "res"
   ]
  },
  {
   "cell_type": "code",
   "execution_count": 21,
   "id": "4369157c",
   "metadata": {},
   "outputs": [
    {
     "data": {
      "text/plain": [
       "[2, 2, 3, 4, 5, 7]"
      ]
     },
     "execution_count": 21,
     "metadata": {},
     "output_type": "execute_result"
    }
   ],
   "source": [
    "# Given an array arr[] of N positive integers. The task is to find the maximum for every adjacent pair in the array.\n",
    "list1 = [1, 2, 2, 3, 4, 5, 7]\n",
    "# Output: 2 2 3 4 5\n",
    "\n",
    "res = []\n",
    "for i in range(1, len(list1)):\n",
    "    res.append(max(list1[i], list1[i-1]))\n",
    "    \n",
    "res"
   ]
  },
  {
   "cell_type": "code",
   "execution_count": 22,
   "id": "fb6159ff",
   "metadata": {},
   "outputs": [
    {
     "name": "stdout",
     "output_type": "stream",
     "text": [
      "1 2 3\n",
      "1 3 2\n",
      "2 1 3\n",
      "2 3 1\n",
      "3 1 2\n",
      "3 2 1\n"
     ]
    }
   ],
   "source": [
    "# print all Possible Combinations from the three Digits\n",
    "list1 = [1, 2, 3]\n",
    "for i in range(3):\n",
    "    for j in range(3):\n",
    "        for k in range(3):\n",
    "            if list1[i] != list1[j] and list1[j] != list1[k] and list1[i] != list1[k]:\n",
    "                print(list1[i], list1[j], list1[k])"
   ]
  },
  {
   "cell_type": "code",
   "execution_count": 23,
   "id": "49cc709f",
   "metadata": {},
   "outputs": [
    {
     "data": {
      "text/plain": [
       "[[1], [1, 2], [1, 3], [2], [2, 3], [3], [1, 2, 3]]"
      ]
     },
     "execution_count": 23,
     "metadata": {},
     "output_type": "execute_result"
    }
   ],
   "source": [
    "# Get all possible subsets of a list’s elements using combinations\n",
    "test_list = [1,2,3]\n",
    "res = []\n",
    "for i in range(len(test_list)):\n",
    "    res.append([test_list[i]])\n",
    "    for j in range(i+1, len(test_list)):\n",
    "        if test_list[i] != test_list[j]:\n",
    "            res.append([test_list[i], test_list[j]])\n",
    "        \n",
    "res.extend([test_list])\n",
    "res"
   ]
  },
  {
   "cell_type": "code",
   "execution_count": 24,
   "id": "51bcfa70",
   "metadata": {},
   "outputs": [
    {
     "name": "stdout",
     "output_type": "stream",
     "text": [
      "[['a', 1], ['a', 4], ['a', 9], ['b', 1], ['b', 4], ['b', 9], ['c', 1], ['c', 4], ['c', 9], ['d', 1], ['d', 4], ['d', 9]]\n"
     ]
    }
   ],
   "source": [
    "# Python program to get all unique combinations of two Lists\n",
    "list1 = [\"a\", \"b\", \"c\",\"d\"]\n",
    "list2 = [1,4,9]\n",
    "\n",
    "res = []\n",
    "for i in range(len(list1)):\n",
    "    for j in range(len(list2)):\n",
    "        res.append([list1[i], list2[j]])\n",
    "        \n",
    "print(res)"
   ]
  },
  {
   "cell_type": "code",
   "execution_count": 25,
   "id": "a139920c",
   "metadata": {},
   "outputs": [
    {
     "data": {
      "text/plain": [
       "[(4, 5, 6, 3), (1, 3, 5, 6)]"
      ]
     },
     "execution_count": 25,
     "metadata": {},
     "output_type": "execute_result"
    }
   ],
   "source": [
    "# Remove Consecutive K element records\n",
    "test_list = [(4, 5, 6, 3), (5, 6, 6, 9), (1, 3, 5, 6), (6, 6, 7, 8)]\n",
    "k = 6\n",
    "\n",
    "res = [idx for idx in test_list if (k, k) not in zip(idx, idx[1:])]\n",
    "            \n",
    "res"
   ]
  },
  {
   "cell_type": "code",
   "execution_count": 26,
   "id": "e9ba1ed6",
   "metadata": {},
   "outputs": [
    {
     "name": "stdout",
     "output_type": "stream",
     "text": [
      "['Gfg', 'is', 'best', 'is', 'Gfg', 'Gfg', 'Gfg', 'best', 'is', 'is', 'best', 'Gfg']\n"
     ]
    }
   ],
   "source": [
    "# Replace index elements with elements in Other List\n",
    "test_list1 = ['Gfg', 'is', 'best']\n",
    "test_list2 = [0, 1, 2, 1, 0, 0, 0, 2, 1, 1, 2, 0]\n",
    "\n",
    "res = []\n",
    "for i in test_list2:\n",
    "    res.append(test_list1[i])\n",
    "    \n",
    "print(res)"
   ]
  },
  {
   "cell_type": "code",
   "execution_count": 27,
   "id": "3745fb14",
   "metadata": {},
   "outputs": [
    {
     "data": {
      "text/plain": [
       "[(4, 5, 6, 4, 4), (4, 4, 4)]"
      ]
     },
     "execution_count": 27,
     "metadata": {},
     "output_type": "execute_result"
    }
   ],
   "source": [
    "# Retain records with N occurrences of K\n",
    "test_list = [(4, 5, 6, 4, 4), (4, 4, 3), (4, 4, 4), (3, 4, 9)]\n",
    "K = 4\n",
    "N = 3 \n",
    "\n",
    "res = []\n",
    "for t in test_list:\n",
    "    if t.count(K) == N:\n",
    "        res.append(t)\n",
    "        \n",
    "res"
   ]
  },
  {
   "cell_type": "code",
   "execution_count": 28,
   "id": "439a0d50",
   "metadata": {},
   "outputs": [
    {
     "data": {
      "text/plain": [
       "([[1, 3, 3], [2, 1, 2], [3, 2, 1]],\n",
       " [[2, 1, 2], [3, 2, 1], [1, 3, 3]],\n",
       " [[3, 2, 1], [2, 1, 2], [1, 3, 3]])"
      ]
     },
     "execution_count": 28,
     "metadata": {},
     "output_type": "execute_result"
    }
   ],
   "source": [
    "# Python Program to Sort the list according to the column using lambda\n",
    "array = [[1, 3, 3], [2, 1, 2], [3, 2, 1]]\n",
    "\n",
    "res1 = sorted(array, key=lambda x: x[0])\n",
    "res2 = sorted(array, key=lambda x: x[1])\n",
    "res3 = sorted(array, key=lambda x: x[2])\n",
    "\n",
    "res1, res2, res3"
   ]
  },
  {
   "cell_type": "code",
   "execution_count": 29,
   "id": "ac4b0283",
   "metadata": {},
   "outputs": [
    {
     "data": {
      "text/plain": [
       "['skeeg', 'rof', 'skeeg', 'si', 'tseb']"
      ]
     },
     "execution_count": 29,
     "metadata": {},
     "output_type": "execute_result"
    }
   ],
   "source": [
    "# Reverse All Strings in String List\n",
    "test_list = [\"geeks\", \"for\", \"geeks\", \"is\", \"best\"]\n",
    "res = []\n",
    "for s in test_list:\n",
    "    res.append(s[::-1])\n",
    "    \n",
    "res"
   ]
  },
  {
   "cell_type": "code",
   "execution_count": 30,
   "id": "78348510",
   "metadata": {},
   "outputs": [
    {
     "name": "stdout",
     "output_type": "stream",
     "text": [
      "2\n"
     ]
    }
   ],
   "source": [
    "# find the character position of Kth word from a list of strings\n",
    "test_list = ['geekforgeeks', 'is', 'best', 'for', 'geeks']\n",
    "K = 20\n",
    "\n",
    "idx = 0\n",
    "for word in test_list:\n",
    "    if idx + len(word) > K:\n",
    "        print(K - idx)\n",
    "        break\n",
    "    else:\n",
    "        idx += len(word)"
   ]
  },
  {
   "cell_type": "code",
   "execution_count": 31,
   "id": "8b7ebe82",
   "metadata": {
    "scrolled": true
   },
   "outputs": [
    {
     "data": {
      "text/plain": [
       "['Gfg', 'good', 'Gfg', 'geeks', 'G4G']"
      ]
     },
     "execution_count": 31,
     "metadata": {},
     "output_type": "execute_result"
    }
   ],
   "source": [
    "# Extract words starting with K in String List\n",
    "test_list = ['Gfg is good for learning', 'Gfg is for geeks', 'I love G4G']\n",
    "K = 'g' \n",
    "\n",
    "res = []\n",
    "for s in test_list:\n",
    "    lst = s.split()\n",
    "    for word in lst:\n",
    "        if word[0].lower() == K.lower():\n",
    "            res.append(word)\n",
    "            \n",
    "res"
   ]
  },
  {
   "cell_type": "code",
   "execution_count": 32,
   "id": "122800b3",
   "metadata": {},
   "outputs": [
    {
     "name": "stdout",
     "output_type": "stream",
     "text": [
      "['gfgisbest', 'gfgfreak', 'gfgCS']\n",
      "3\n"
     ]
    }
   ],
   "source": [
    "# Prefix frequency in string List\n",
    "test_list = ['gfgisbest', 'geeks', 'gfgfreak', 'gfgCS', 'Gcourses']\n",
    "test_sub = 'gfg'\n",
    "\n",
    "res = []\n",
    "for word in test_list:\n",
    "    if word.startswith(test_sub):\n",
    "        res.append(word)\n",
    "\n",
    "print(res)\n",
    "print(len(res))"
   ]
  },
  {
   "cell_type": "code",
   "execution_count": 33,
   "id": "a2a78f4d",
   "metadata": {},
   "outputs": [
    {
     "data": {
      "text/plain": [
       "['G', '$', 'G', '$', '$', '$', '$', '$', '$']"
      ]
     },
     "execution_count": 33,
     "metadata": {},
     "output_type": "execute_result"
    }
   ],
   "source": [
    "# Replace all Characters of a List Except the given character\n",
    "test_list = ['G', 'F', 'G', 'I', 'S', 'B', 'E', 'S', 'T']\n",
    "repl_chr = '$'\n",
    "ret_chr = 'G'\n",
    "\n",
    "res = [char if char == ret_chr else repl_chr for char in test_list]\n",
    "res"
   ]
  },
  {
   "cell_type": "code",
   "execution_count": 34,
   "id": "6f331848",
   "metadata": {},
   "outputs": [
    {
     "data": {
      "text/plain": [
       "['is', 'best']"
      ]
     },
     "execution_count": 34,
     "metadata": {},
     "output_type": "execute_result"
    }
   ],
   "source": [
    "# Remove words containing list characters\n",
    "test_list = ['gfg', 'is', 'best', 'for', 'geeks']\n",
    "char_list = ['g', 'o']\n",
    "\n",
    "'res = [word for word in test_list if all(char not in word for char in char_list)]'\n",
    "\n",
    "res = []\n",
    "flag = 0\n",
    "for word in test_list:\n",
    "    for char in char_list:\n",
    "        if char not in word:\n",
    "            flag = 1\n",
    "        else:\n",
    "            flag = 0\n",
    "            break\n",
    "            \n",
    "    if flag == 1:\n",
    "        res.append(word)\n",
    "        \n",
    "res"
   ]
  },
  {
   "cell_type": "code",
   "execution_count": 35,
   "id": "f6b3c8d1",
   "metadata": {},
   "outputs": [
    {
     "data": {
      "text/plain": [
       "['Mike', 'Emma', 'Kelly', 'Brad']"
      ]
     },
     "execution_count": 35,
     "metadata": {},
     "output_type": "execute_result"
    }
   ],
   "source": [
    "# remove multiple empty spaces from string List\n",
    "test_list = [\"Mike\", \"\", \"Emma\", \"Kelly\", \"\", \"Brad\"]\n",
    "\n",
    "res = [ele for ele in test_list if ele.strip()]\n",
    "res"
   ]
  },
  {
   "cell_type": "code",
   "execution_count": 36,
   "id": "f8957bcb",
   "metadata": {},
   "outputs": [
    {
     "data": {
      "text/plain": [
       "['Computer Science Students Love Gfg']"
      ]
     },
     "execution_count": 36,
     "metadata": {},
     "output_type": "execute_result"
    }
   ],
   "source": [
    "# Add Space between Potential Words\n",
    "import re\n",
    "test_list = ['ComputerScienceStudentsLoveGfg'] \n",
    "\n",
    "res = [re.sub(r'(\\w)([A-Z])', r'\\1 \\2', ele) for ele in test_list]\n",
    "res"
   ]
  },
  {
   "cell_type": "code",
   "execution_count": 37,
   "id": "fa226e1c",
   "metadata": {},
   "outputs": [
    {
     "data": {
      "text/plain": [
       "['Gfg', 'is', 'best', 'and', 'for', 'CS']"
      ]
     },
     "execution_count": 37,
     "metadata": {},
     "output_type": "execute_result"
    }
   ],
   "source": [
    "# Filter the List of String whose index in second List contains the given Substring\n",
    "test_list1 = [\"Gfg\", \"is\", \"not\", \"best\", \"and\",\"not\", \"for\", \"CS\"]\n",
    "test_list2 = [\"Its ok\", \"all ok\", \"wrong\", \"looks ok\",\"ok\", \"wrong\", \"ok\", \"thats ok\"]\n",
    "sub_str = \"ok\"\n",
    "\n",
    "res = []\n",
    "for s in range(len(test_list2)):\n",
    "    if sub_str in test_list2[s]:\n",
    "        res.append(test_list1[s])\n",
    "        \n",
    "res"
   ]
  },
  {
   "cell_type": "code",
   "execution_count": 38,
   "id": "8ee5ae46",
   "metadata": {},
   "outputs": [
    {
     "data": {
      "text/plain": [
       "'gfgisbest'"
      ]
     },
     "execution_count": 38,
     "metadata": {},
     "output_type": "execute_result"
    }
   ],
   "source": [
    "# Convert Character Matrix to single String\n",
    "test_list = [['g', 'f', 'g'], ['i', 's'], ['b', 'e', 's', 't']]\n",
    "\n",
    "\"\"\"res = []\n",
    "for lst in test_list:\n",
    "    res.append(\"\".join(lst))\n",
    "    \n",
    "print(\"\".join(res))\"\"\"\n",
    "\n",
    "res = \"\".join([ele for lst in test_list for ele in lst])\n",
    "res"
   ]
  },
  {
   "cell_type": "code",
   "execution_count": 39,
   "id": "424d8652",
   "metadata": {},
   "outputs": [
    {
     "data": {
      "text/plain": [
       "['GksforGks', 'is', 'Best', 'For', 'Gks', '&', 'Comp Science']"
      ]
     },
     "execution_count": 39,
     "metadata": {},
     "output_type": "execute_result"
    }
   ],
   "source": [
    "# Replace Substrings from String List\n",
    "test_list1 = ['GeeksforGeeks', 'is', 'Best', 'For', 'Geeks', 'And', 'Computer Science']\n",
    "test_list2 = [['Geeks', 'Gks'], ['And', '&'], ['Computer', 'Comp']]\n",
    "\n",
    "for lst in test_list2:\n",
    "    test_list1 = [re.sub(lst[0], lst[1], ele) for ele in test_list1]\n",
    "        \n",
    "test_list1"
   ]
  },
  {
   "cell_type": "code",
   "execution_count": 40,
   "id": "915e92c4",
   "metadata": {},
   "outputs": [
    {
     "data": {
      "text/plain": [
       "['Gfg is best', 'Gfg is for Geeks']"
      ]
     },
     "execution_count": 40,
     "metadata": {},
     "output_type": "execute_result"
    }
   ],
   "source": [
    "# Remove Redundant Substrings from Strings List\n",
    "test_list = [\"Gfg\", \"Gfg is best\", \"Geeks\", \"for\", \"Gfg is for Geeks\"]\n",
    "\n",
    "test_list.sort(key=len)\n",
    "res = [val for idx, val in enumerate(test_list) if val not in \",\".join(test_list[idx+1:])]\n",
    "res"
   ]
  },
  {
   "cell_type": "code",
   "execution_count": 41,
   "id": "9ec04207",
   "metadata": {},
   "outputs": [
    {
     "data": {
      "text/plain": [
       "['1010', '0101']"
      ]
     },
     "execution_count": 41,
     "metadata": {},
     "output_type": "execute_result"
    }
   ],
   "source": [
    "# Find binary numbers divisible by 5\n",
    "lst = ['0100', '0011', '1010', '1001', '1100', '1011', '0101']\n",
    "b_nums = []\n",
    "for num in lst:\n",
    "    x = int(num, 2)\n",
    "    if x % 5 == 0:\n",
    "        b_nums.append(num)\n",
    "        \n",
    "b_nums"
   ]
  },
  {
   "cell_type": "code",
   "execution_count": 42,
   "id": "5090fe84",
   "metadata": {},
   "outputs": [
    {
     "data": {
      "text/plain": [
       "41"
      ]
     },
     "execution_count": 42,
     "metadata": {},
     "output_type": "execute_result"
    }
   ],
   "source": [
    "# Find the second highest ele in the list\n",
    "lst = [12, 45, 2, 41, 31, 10, 8, 6]\n",
    "second_max = max(lst, key=lambda x: float('-inf') if x == max(lst) else x)\n",
    "second_max"
   ]
  },
  {
   "cell_type": "markdown",
   "id": "b159b850",
   "metadata": {},
   "source": [
    "# Tuple"
   ]
  },
  {
   "cell_type": "code",
   "execution_count": 43,
   "id": "7ac6185a",
   "metadata": {},
   "outputs": [
    {
     "data": {
      "text/plain": [
       "[(6, 24, 12)]"
      ]
     },
     "execution_count": 43,
     "metadata": {},
     "output_type": "execute_result"
    }
   ],
   "source": [
    "# find tuples which have all elements divisible by K from a list of tuples\n",
    "test_list = [(6, 24, 12), (7, 9, 6), (12, 18, 21)]\n",
    "K = 6\n",
    "\n",
    "res = [sub for sub in test_list if all(ele % K == 0 for ele in sub)]\n",
    "res"
   ]
  },
  {
   "cell_type": "code",
   "execution_count": 44,
   "id": "7c8c8725",
   "metadata": {},
   "outputs": [
    {
     "data": {
      "text/plain": [
       "[(4, 5, 9), (4, 6)]"
      ]
     },
     "execution_count": 44,
     "metadata": {},
     "output_type": "execute_result"
    }
   ],
   "source": [
    "# find Tuples with positive elements in List of tuples\n",
    "test_list = [(4, 5, 9), (-3, 2, 3), (-3, 5, 6), (4, 6)] \n",
    "\n",
    "res = [sub for sub in test_list if all(ele > 0 for ele in sub)]\n",
    "res"
   ]
  },
  {
   "cell_type": "code",
   "execution_count": 45,
   "id": "8cfb90fe",
   "metadata": {},
   "outputs": [
    {
     "data": {
      "text/plain": [
       "defaultdict(int, {('hi', 'bye'): 2, ('Geeks', 'forGeeks'): 1, ('a', 'b'): 2})"
      ]
     },
     "execution_count": 45,
     "metadata": {},
     "output_type": "execute_result"
    }
   ],
   "source": [
    "# Count tuples occurrence in list of tuples\n",
    "Input = [[('hi', 'bye')], [('Geeks', 'forGeeks')], [('a', 'b')], [('hi', 'bye')], [('a', 'b')]]\n",
    "\n",
    "from collections import defaultdict\n",
    "output = defaultdict(int)\n",
    "for ele in Input:\n",
    "    output[ele[0]] += 1\n",
    "    \n",
    "output"
   ]
  },
  {
   "cell_type": "code",
   "execution_count": 46,
   "id": "34759ee8",
   "metadata": {},
   "outputs": [
    {
     "data": {
      "text/plain": [
       "(1, 2, 3, 5)"
      ]
     },
     "execution_count": 46,
     "metadata": {},
     "output_type": "execute_result"
    }
   ],
   "source": [
    "# Removing duplicates from tuple\n",
    "test_tup = (1, 3, 5, 2, 3, 5, 1, 1, 3)\n",
    "\n",
    "res = tuple(set(test_tup))\n",
    "res"
   ]
  },
  {
   "cell_type": "code",
   "execution_count": 47,
   "id": "76bc3218",
   "metadata": {},
   "outputs": [
    {
     "name": "stdout",
     "output_type": "stream",
     "text": [
      "([4, 7, 8], [1, 2, 3])\n"
     ]
    }
   ],
   "source": [
    "# Remove duplicate lists in tuples (Preserving Order)\n",
    "test_tup = ([4, 7, 8], [1, 2, 3], [4, 7, 8], [4, 7, 8], [1, 2, 3])\n",
    "\n",
    "res = []\n",
    "for sub in test_tup:\n",
    "    if sub not in res:\n",
    "        res.append(sub)\n",
    "        \n",
    "print(tuple(res))"
   ]
  },
  {
   "cell_type": "code",
   "execution_count": 48,
   "id": "31e12b60",
   "metadata": {},
   "outputs": [
    {
     "data": {
      "text/plain": [
       "[2, 3, 1, 5, 9, 0]"
      ]
     },
     "execution_count": 48,
     "metadata": {},
     "output_type": "execute_result"
    }
   ],
   "source": [
    "# Extract digits from Tuple list\n",
    "test_list = [(15, 3), (3, 9), (1, 10), (99, 2)]\n",
    "\n",
    "\"\"\"x = ''\n",
    "for ele in test_list:\n",
    "    for i in ele:\n",
    "        x += str(i)\n",
    "        \n",
    "res = list(map(int, set(x)))\"\"\"\n",
    "\n",
    "temp = re.sub(r'[\\[\\]\\(\\), ]', '', str(test_list))\n",
    "res = [int(ele) for ele in set(temp)]\n",
    "res"
   ]
  },
  {
   "cell_type": "code",
   "execution_count": 49,
   "id": "3a43399a",
   "metadata": {},
   "outputs": [
    {
     "data": {
      "text/plain": [
       "[(7, 3), (21, 1), (100, 7), (21, 17)]"
      ]
     },
     "execution_count": 49,
     "metadata": {},
     "output_type": "execute_result"
    }
   ],
   "source": [
    "# Cross Pairing in Tuple List\n",
    "test_list1 = [(1, 7), (6, 7), (9, 100), (2, 21)]\n",
    "test_list2 = [(1, 3), (2, 1), (9, 7), (2, 17)]\n",
    "\n",
    "res = [(sub1[1], sub2[1]) for sub2 in test_list2 for sub1 in test_list1 if sub1[0] == sub2[0]]\n",
    "res"
   ]
  },
  {
   "cell_type": "code",
   "execution_count": 50,
   "id": "fc136091",
   "metadata": {},
   "outputs": [
    {
     "data": {
      "text/plain": [
       "35"
      ]
     },
     "execution_count": 50,
     "metadata": {},
     "output_type": "execute_result"
    }
   ],
   "source": [
    "# Kth Column Product in Tuple List\n",
    "test_list = [(5, 6, 7), (1, 3, 5), (8, 9, 1)]\n",
    "K = 2\n",
    "\n",
    "prod = 1\n",
    "for ele in test_list:\n",
    "    prod *= ele[K]\n",
    "    \n",
    "prod"
   ]
  },
  {
   "cell_type": "code",
   "execution_count": 51,
   "id": "b79d852f",
   "metadata": {},
   "outputs": [
    {
     "data": {
      "text/plain": [
       "(5, 6, 10, 6, 7, 8, 9, 3)"
      ]
     },
     "execution_count": 51,
     "metadata": {},
     "output_type": "execute_result"
    }
   ],
   "source": [
    "# Flatten tuple of List to tuple\n",
    "test_tuple = ([5, 6, 10], [6, 7, 8, 9], [3])\n",
    "\n",
    "res = tuple([(ele) for sub in test_tuple for ele in sub])\n",
    "res"
   ]
  },
  {
   "cell_type": "code",
   "execution_count": 52,
   "id": "f5b48688",
   "metadata": {},
   "outputs": [
    {
     "data": {
      "text/plain": [
       "'1465829110'"
      ]
     },
     "execution_count": 52,
     "metadata": {},
     "output_type": "execute_result"
    }
   ],
   "source": [
    "# Flatten Tuples List to String\n",
    "test_list = [('1', '4', '6'), ('5', '8'), ('2', '9'), ('1', '10')]\n",
    "\n",
    "res = \"\".join([ele for sub in test_list for ele in sub])\n",
    "res"
   ]
  },
  {
   "cell_type": "code",
   "execution_count": 53,
   "id": "868eab62",
   "metadata": {},
   "outputs": [
    {
     "data": {
      "text/plain": [
       "[(8, 11), (7, 5), (8, 14), (11, 8), (12, 17), (11, 11)]"
      ]
     },
     "execution_count": 53,
     "metadata": {},
     "output_type": "execute_result"
    }
   ],
   "source": [
    "# Combinations of sum with tuples in tuple list\n",
    "test_list = [(2, 4), (6, 7), (5, 1), (6, 10)]\n",
    " \n",
    "from itertools import combinations\n",
    "res = [(a1 + b1, a2 + b2) for (a1, a2), (b1, b2) in combinations(test_list, 2)]\n",
    "res"
   ]
  },
  {
   "cell_type": "code",
   "execution_count": 54,
   "id": "85817f90",
   "metadata": {},
   "outputs": [
    {
     "data": {
      "text/plain": [
       "[(10, 1), (10, 4), (7, 5), (7, 8), (5, 6)]"
      ]
     },
     "execution_count": 54,
     "metadata": {},
     "output_type": "execute_result"
    }
   ],
   "source": [
    "# Custom sorting in list of tuples based on 1st ele of each tuple\n",
    "test_list = [(7, 8), (5, 6), (7, 5), (10, 4), (10, 1)]\n",
    "\n",
    "res = sorted(test_list, key=lambda x: (-x[0], x[1]))\n",
    "res"
   ]
  },
  {
   "cell_type": "code",
   "execution_count": 55,
   "id": "a09d0b1d",
   "metadata": {},
   "outputs": [
    {
     "data": {
      "text/plain": [
       "[5, 'Gfg', 6, 'Gfg', 7, 'Gfg', 4, 'Gfg', 9, 'Gfg']"
      ]
     },
     "execution_count": 55,
     "metadata": {},
     "output_type": "execute_result"
    }
   ],
   "source": [
    "# convert tuple into list by adding the given string after every element\n",
    "test_tup = (5, 6, 7, 4, 9)\n",
    "K = \"Gfg\" \n",
    "\n",
    "res = [ele for sub in test_tup for ele in (sub, K)]\n",
    "res"
   ]
  },
  {
   "cell_type": "code",
   "execution_count": 56,
   "id": "5a684897",
   "metadata": {},
   "outputs": [
    {
     "data": {
      "text/plain": [
       "[(4, 7, 10, 18, 0, 10), (5, 8, 13, 17, 4, 1)]"
      ]
     },
     "execution_count": 56,
     "metadata": {},
     "output_type": "execute_result"
    }
   ],
   "source": [
    "# Convert Tuple Matrix to Tuple List\n",
    "test_list = [[(4, 5), (7, 8)], [(10, 13), (18, 17)], [(0, 4), (10, 1)]]\n",
    "\n",
    "temp = [ele for sub in test_list for ele in sub]\n",
    "res = list(zip(*temp))\n",
    "res"
   ]
  },
  {
   "cell_type": "code",
   "execution_count": 57,
   "id": "9d974e4c",
   "metadata": {},
   "outputs": [
    {
     "data": {
      "text/plain": [
       "((1, 2), (2, 3), (3, 4))"
      ]
     },
     "execution_count": 57,
     "metadata": {},
     "output_type": "execute_result"
    }
   ],
   "source": [
    "# Convert Tuple to Tuple Pair\n",
    "test_tuple = (1, 2, 3, 4)\n",
    "\n",
    "res = tuple(zip(test_tuple[:-1], test_tuple[1:]))\n",
    "res"
   ]
  },
  {
   "cell_type": "code",
   "execution_count": 58,
   "id": "4aade7aa",
   "metadata": {},
   "outputs": [
    {
     "data": {
      "text/plain": [
       "(('Gfg', 'is', 'Best'), ('Gfg', 'is', 'love'), ('Gfg', 'is', 'for', 'Geeks'))"
      ]
     },
     "execution_count": 58,
     "metadata": {},
     "output_type": "execute_result"
    }
   ],
   "source": [
    "# Convert List of Lists to Tuple of Tuples\n",
    "test_list = [['Gfg', 'is', 'Best'], ['Gfg', 'is', 'love'], ['Gfg', 'is', 'for', 'Geeks']]\n",
    "\n",
    "res = tuple([tuple(sub) for sub in test_list])\n",
    "res"
   ]
  },
  {
   "cell_type": "code",
   "execution_count": 59,
   "id": "413b9b10",
   "metadata": {},
   "outputs": [
    {
     "name": "stdout",
     "output_type": "stream",
     "text": [
      "[('Gfg', 4), ('Gfg', 5), ('Gfg', 6), ('is', 6), ('is', 7), ('is', 3), ('best', 1), ('best', 3), ('best', 4)]\n"
     ]
    }
   ],
   "source": [
    "# Convert Matrix to Custom Tuple Matrix\n",
    "test_list = [[4, 5, 6], [6, 7, 3], [1, 3, 4]]\n",
    "add_list = ['Gfg', 'is', 'best']\n",
    "# ouput = [('Gfg', 4), ('Gfg', 5), ('Gfg', 6), ('is', 6), ('is', 7), ('is', 3), ('best', 1), ('best', 3), ('best', 4)]\n",
    "\n",
    "res = [tuple((s, ele)) for s, sub in zip(add_list, test_list) for ele in sub]\n",
    "print(res)"
   ]
  },
  {
   "cell_type": "code",
   "execution_count": 60,
   "id": "af4a5c4f",
   "metadata": {},
   "outputs": [
    {
     "data": {
      "text/plain": [
       "[{'key': 4, 'value': 'Gfg', 'id': 10},\n",
       " {'key': 3, 'value': 'is', 'id': 8},\n",
       " {'key': 6, 'value': 'Best', 'id': 10}]"
      ]
     },
     "execution_count": 60,
     "metadata": {},
     "output_type": "execute_result"
    }
   ],
   "source": [
    "# Convert Nested Tuple to Custom Key Dictionary\n",
    "test_tuple = ((4, 'Gfg', 10), (3, 'is', 8), (6, 'Best', 10)) \n",
    "# output = [{'key': 4, 'value': 'Gfg', 'id': 10}, {'key': 3, 'value': 'is', 'id': 8}, {'key': 6, 'value': 'Best', 'id': 10}]\n",
    "\n",
    "res = [{'key': sub[0], 'value': sub[1], 'id': sub[2]} for sub in test_tuple]\n",
    "res"
   ]
  },
  {
   "cell_type": "code",
   "execution_count": 61,
   "id": "4deba4ef",
   "metadata": {},
   "outputs": [
    {
     "data": {
      "text/plain": [
       "4.56"
      ]
     },
     "execution_count": 61,
     "metadata": {},
     "output_type": "execute_result"
    }
   ],
   "source": [
    "# Convert tuple to float value\n",
    "test_tup = (4, 56) \n",
    "\n",
    "res = float(\".\".join([str(ele) for ele in test_tup]))\n",
    "res"
   ]
  },
  {
   "cell_type": "code",
   "execution_count": 62,
   "id": "21eea08b",
   "metadata": {},
   "outputs": [
    {
     "data": {
      "text/plain": [
       "[(34, 55), (12, 45), (78,)]"
      ]
     },
     "execution_count": 62,
     "metadata": {},
     "output_type": "execute_result"
    }
   ],
   "source": [
    "# Extract tuples having K digit elements\n",
    "test_list = [(54, 2), (34, 55), (222, 23), (12, 45), (78, )]\n",
    "K = 2\n",
    "\n",
    "res = [sub for sub in test_list if all(len(str(ele)) == K for ele in sub)]\n",
    "res"
   ]
  },
  {
   "cell_type": "code",
   "execution_count": 63,
   "id": "31d51dfe",
   "metadata": {},
   "outputs": [
    {
     "data": {
      "text/plain": [
       "{(6, 7), (8, 9)}"
      ]
     },
     "execution_count": 63,
     "metadata": {},
     "output_type": "execute_result"
    }
   ],
   "source": [
    "# Extract Symmetric Tuples\n",
    "test_list = [(6, 7), (2, 3), (7, 6), (9, 8), (10, 2), (8, 9)]\n",
    "\n",
    "temp = set(test_list) & {(b, a) for a, b in test_list}\n",
    "res = {(a, b) for a, b in temp if a < b}\n",
    "res"
   ]
  },
  {
   "cell_type": "code",
   "execution_count": 64,
   "id": "c2777575",
   "metadata": {},
   "outputs": [
    {
     "data": {
      "text/plain": [
       "[(19, 4, 5, 3), (4, 5, 5, 7), (1, 3, 7, 4), (1, 2)]"
      ]
     },
     "execution_count": 64,
     "metadata": {},
     "output_type": "execute_result"
    }
   ],
   "source": [
    "# Sort Tuples by their Maximum element\n",
    "test_list = [(4, 5, 5, 7), (1, 3, 7, 4), (19, 4, 5, 3), (1, 2)]\n",
    "\n",
    "test_list.sort(key=lambda x: max(x), reverse=True)\n",
    "test_list"
   ]
  },
  {
   "cell_type": "code",
   "execution_count": 65,
   "id": "3b040020",
   "metadata": {},
   "outputs": [
    {
     "name": "stdout",
     "output_type": "stream",
     "text": [
      "(1, 5, 7, 10)\n"
     ]
    }
   ],
   "source": [
    "# Remove nested records from tuple\n",
    "test_tup = (1, 5, 7, (4, 6), 10)\n",
    "\n",
    "'res = tuple(filter(lambda x: not isinstance(x, tuple), test_tup))'\n",
    "\n",
    "res = []\n",
    "for ele in test_tup:\n",
    "    if not type(ele) is tuple:\n",
    "        res.append(ele)\n",
    "        \n",
    "print(tuple(res))"
   ]
  },
  {
   "cell_type": "code",
   "execution_count": 66,
   "id": "f6a42175",
   "metadata": {},
   "outputs": [
    {
     "data": {
      "text/plain": [
       "{5: 2, 6: 2, 7: 1, 8: 1, 9: 2}"
      ]
     },
     "execution_count": 66,
     "metadata": {},
     "output_type": "execute_result"
    }
   ],
   "source": [
    "# Elements Frequency in Mixed Nested Tuple\n",
    "test_tuple = (5, 6, (5, 6), 7, (8, 9), 9)\n",
    "\n",
    "def flatten(t):\n",
    "    res = []\n",
    "    for ele in test_tuple:\n",
    "        if not type(ele) is tuple:\n",
    "            res.append(ele)\n",
    "        else:\n",
    "            for i in ele:\n",
    "                res.append(i)\n",
    "    return tuple(res)\n",
    "\n",
    "from collections import Counter\n",
    "res = dict(Counter(flatten(test_tuple)))\n",
    "res"
   ]
  },
  {
   "cell_type": "code",
   "execution_count": 67,
   "id": "4d21fdce",
   "metadata": {},
   "outputs": [
    {
     "data": {
      "text/plain": [
       "[3, 4, 5, 7, 1]"
      ]
     },
     "execution_count": 67,
     "metadata": {},
     "output_type": "execute_result"
    }
   ],
   "source": [
    "# unique elements in list of tuple\n",
    "test_list = [(3, 4, 5), (4, 5, 7), (1, 4)]\n",
    "\n",
    "res = []\n",
    "for ele in test_list:\n",
    "    for i in ele:\n",
    "        if i not in res:\n",
    "            res.append(i)\n",
    "            \n",
    "res"
   ]
  },
  {
   "cell_type": "code",
   "execution_count": 68,
   "id": "3dd35f81",
   "metadata": {},
   "outputs": [
    {
     "data": {
      "text/plain": [
       "((3, 4), (5, 6))"
      ]
     },
     "execution_count": 68,
     "metadata": {},
     "output_type": "execute_result"
    }
   ],
   "source": [
    "# Concatenate tuples to nested tuples\n",
    "test_tup1 = (3, 4)\n",
    "test_tup2 = (5, 6)\n",
    "\n",
    "'res = tuple((test_tup1, test_tup2))'\n",
    "\n",
    "res = (test_tup1,) + (test_tup2,)\n",
    "res"
   ]
  },
  {
   "cell_type": "code",
   "execution_count": 69,
   "id": "161dd0a6",
   "metadata": {},
   "outputs": [
    {
     "data": {
      "text/plain": [
       "[(2, 7), (8, 7), (3, 7), (6, 5), (2, 5), (9, 8)]"
      ]
     },
     "execution_count": 69,
     "metadata": {},
     "output_type": "execute_result"
    }
   ],
   "source": [
    "# Sort by Frequency of second element in Tuple List\n",
    "test_list = [(6, 5), (2, 7), (2, 5), (8, 7), (9, 8), (3, 7)]\n",
    "\n",
    "freq = defaultdict(int)\n",
    "for idx, val in test_list:\n",
    "        freq[val] += 1\n",
    "    \n",
    "res = sorted(test_list, key=lambda x: freq[x[1]], reverse=True)\n",
    "res"
   ]
  },
  {
   "cell_type": "code",
   "execution_count": 70,
   "id": "8266be20",
   "metadata": {},
   "outputs": [
    {
     "data": {
      "text/plain": [
       "([4, 5, 7], [2, 4, 8], [0, 5, 7])"
      ]
     },
     "execution_count": 70,
     "metadata": {},
     "output_type": "execute_result"
    }
   ],
   "source": [
    "# Sort lists in tuple\n",
    "test_tup = ([7, 5, 4], [8, 2, 4], [0, 7, 5])\n",
    "\n",
    "res = tuple([sorted(sub) for sub in test_tup])\n",
    "res"
   ]
  },
  {
   "cell_type": "code",
   "execution_count": 71,
   "id": "b8eec056",
   "metadata": {},
   "outputs": [
    {
     "data": {
      "text/plain": [
       "[('Geeks', 2), ('best', 9), ('CS', 10), ('Gfg', 3)]"
      ]
     },
     "execution_count": 71,
     "metadata": {},
     "output_type": "execute_result"
    }
   ],
   "source": [
    "# Order Tuples by List\n",
    "test_list = [('Gfg', 3), ('best', 9), ('CS', 10), ('Geeks', 2)]\n",
    "ord_list = ['Geeks', 'best', 'CS', 'Gfg']\n",
    "\n",
    "d = dict(test_list)\n",
    "res = [(key, d[key]) for key in ord_list]\n",
    "res"
   ]
  },
  {
   "cell_type": "code",
   "execution_count": 72,
   "id": "6c1589bf",
   "metadata": {},
   "outputs": [
    {
     "data": {
      "text/plain": [
       "[('is', 4, 3), ('best', 10, 29)]"
      ]
     },
     "execution_count": 72,
     "metadata": {},
     "output_type": "execute_result"
    }
   ],
   "source": [
    "# Filter Tuples by Kth element from CheckList\n",
    "test_list = [(\"GFg\", 5, 9), (\"is\", 4, 3), (\"best\", 10, 29)]\n",
    "check_list = [4, 2, 8, 10]\n",
    "K = 1\n",
    "\n",
    "res = [sub for sub in test_list if sub[K] in check_list]\n",
    "res"
   ]
  },
  {
   "cell_type": "code",
   "execution_count": 73,
   "id": "766c5127",
   "metadata": {},
   "outputs": [
    {
     "data": {
      "text/plain": [
       "{(3, 4), (4, 5), (5, 6)}"
      ]
     },
     "execution_count": 73,
     "metadata": {},
     "output_type": "execute_result"
    }
   ],
   "source": [
    "# Tuple List intersection\n",
    "test_list1 = [(3, 4), (5, 6), (9, 10), (4, 5)]\n",
    "test_list2 = [(5, 4), (3, 4), (6, 5), (9, 11)]\n",
    "\n",
    "res = set([tuple(sorted(ele)) for ele in test_list1]) & set([tuple(sorted(ele)) for ele in test_list2])\n",
    "res"
   ]
  },
  {
   "cell_type": "code",
   "execution_count": 74,
   "id": "ffd7cc8a",
   "metadata": {},
   "outputs": [
    {
     "data": {
      "text/plain": [
       "2"
      ]
     },
     "execution_count": 74,
     "metadata": {},
     "output_type": "execute_result"
    }
   ],
   "source": [
    "# Unique Tuple Frequency \n",
    "test_list = [(3, 4), (1, 2), (4, 3), (3, 4)]\n",
    "\n",
    "\"\"\"\n",
    "freq = 0\n",
    "res = []\n",
    "for ele in test_list:\n",
    "    s = sorted(ele)\n",
    "    if s not in res:\n",
    "        res.append(s)\n",
    "        freq += 1\"\"\"\n",
    "        \n",
    "res = len(set([tuple(sorted(sub)) for sub in test_list]))\n",
    "res"
   ]
  },
  {
   "cell_type": "code",
   "execution_count": 75,
   "id": "f0f7e0b7",
   "metadata": {},
   "outputs": [
    {
     "data": {
      "text/plain": [
       "31"
      ]
     },
     "execution_count": 75,
     "metadata": {},
     "output_type": "execute_result"
    }
   ],
   "source": [
    "# Skew Nested Tuple Summation\n",
    "test_tup = (5, (6, (1, (9, (10, None)))))\n",
    "\n",
    "res = 0\n",
    "while test_tup:\n",
    "    res += test_tup[0]\n",
    "    test_tup = test_tup[1]\n",
    "    \n",
    "res"
   ]
  },
  {
   "cell_type": "code",
   "execution_count": 76,
   "id": "b9aa6903",
   "metadata": {},
   "outputs": [
    {
     "data": {
      "text/plain": [
       "105"
      ]
     },
     "execution_count": 76,
     "metadata": {},
     "output_type": "execute_result"
    }
   ],
   "source": [
    "# Convert Binary tuple to Integer\n",
    "test_tup = (1, 1, 0, 1, 0, 0, 1)\n",
    "\n",
    "res = int(\"\".join([str(ele) for ele in test_tup]), 2)\n",
    "res"
   ]
  },
  {
   "cell_type": "code",
   "execution_count": 77,
   "id": "3f09e20e",
   "metadata": {},
   "outputs": [
    {
     "data": {
      "text/plain": [
       "(15, 6, 5, 10)"
      ]
     },
     "execution_count": 77,
     "metadata": {},
     "output_type": "execute_result"
    }
   ],
   "source": [
    "# Tuple XOR operation\n",
    "test_tup1 = (10, 4, 6, 9) \n",
    "test_tup2 = (5, 2, 3, 3) \n",
    "\n",
    "res = tuple([ele1 ^ ele2 for ele1, ele2 in zip(test_tup1, test_tup2)])\n",
    "res"
   ]
  },
  {
   "cell_type": "code",
   "execution_count": 78,
   "id": "7b85049d",
   "metadata": {},
   "outputs": [
    {
     "data": {
      "text/plain": [
       "(0, 0, 2, 1)"
      ]
     },
     "execution_count": 78,
     "metadata": {},
     "output_type": "execute_result"
    }
   ],
   "source": [
    "# AND operation between Tuples\n",
    "test_tup1 = (10, 4, 6, 9) \n",
    "test_tup2 = (5, 2, 3, 3)\n",
    "\n",
    "res = tuple([ele1 & ele2 for ele1, ele2 in zip(test_tup1, test_tup2)])\n",
    "res"
   ]
  },
  {
   "cell_type": "code",
   "execution_count": 79,
   "id": "a1c56fd9",
   "metadata": {},
   "outputs": [
    {
     "data": {
      "text/plain": [
       "[(4, 5), (8, 6, 7), (3, 4, 6, 7)]"
      ]
     },
     "execution_count": 79,
     "metadata": {},
     "output_type": "execute_result"
    }
   ],
   "source": [
    "# Remove Tuples of Length K\n",
    "test_list = [(4, 5), (4, ), (8, 6, 7), (1, ), (3, 4, 6, 7)]\n",
    "K = 1\n",
    "\n",
    "res = [sub for sub in test_list if len(sub) != K]\n",
    "res"
   ]
  },
  {
   "cell_type": "code",
   "execution_count": 80,
   "id": "6cf8b4c4",
   "metadata": {},
   "outputs": [
    {
     "data": {
      "text/plain": [
       "[(6, 5, 8, 3), (2, 7, 2), (9, 1)]"
      ]
     },
     "execution_count": 80,
     "metadata": {},
     "output_type": "execute_result"
    }
   ],
   "source": [
    "# Assign Frequency to Tuples\n",
    "test_list = [(6, 5, 8), (2, 7), (6, 5, 8), (6, 5, 8), (9, ), (2, 7)]\n",
    "\n",
    "res = [(*key, val) for key, val in Counter(test_list).items()]\n",
    "res"
   ]
  },
  {
   "cell_type": "code",
   "execution_count": 81,
   "id": "b3a1f0b7",
   "metadata": {},
   "outputs": [
    {
     "data": {
      "text/plain": [
       "[(5, 6, 7, 8), (6, 10), (7, 13)]"
      ]
     },
     "execution_count": 81,
     "metadata": {},
     "output_type": "execute_result"
    }
   ],
   "source": [
    "# Join Tuples if similar initial element\n",
    "test_list = [(5, 6), (5, 7), (5, 8), (6, 10), (7, 13)] \n",
    "\n",
    "temp = defaultdict(list)\n",
    "for key, val in test_list:\n",
    "    temp[key].append(val)\n",
    "    \n",
    "res = [(key, *val) for key, val in temp.items()]\n",
    "res"
   ]
  },
  {
   "cell_type": "code",
   "execution_count": 82,
   "id": "2c569676",
   "metadata": {},
   "outputs": [
    {
     "data": {
      "text/plain": [
       "[(None, 2), (3, 4), (12, 3)]"
      ]
     },
     "execution_count": 82,
     "metadata": {},
     "output_type": "execute_result"
    }
   ],
   "source": [
    "# Remove Tuples from the List having every element as None\n",
    "test_list = [(None, 2), (None, None), (3, 4), (12, 3), (None, )]\n",
    "\n",
    "res = [sub for sub in test_list if not all(ele == None for ele in sub)]\n",
    "res"
   ]
  },
  {
   "cell_type": "markdown",
   "id": "60531d2d",
   "metadata": {},
   "source": [
    "# Dictionaries"
   ]
  },
  {
   "cell_type": "code",
   "execution_count": 83,
   "id": "8153d3cc",
   "metadata": {},
   "outputs": [
    {
     "data": {
      "text/plain": [
       "{'rajnish': 9, 'ravi': 10, 'sanjeev': 15, 'suraj': 32, 'yash': 2}"
      ]
     },
     "execution_count": 83,
     "metadata": {},
     "output_type": "execute_result"
    }
   ],
   "source": [
    "# Sort Python Dictionaries by Key or Value\n",
    "mydict = {'ravi': 10, 'rajnish': 9, 'sanjeev': 15, 'yash': 2, 'suraj': 32}\n",
    "\n",
    "mykeys = list(mydict.keys())\n",
    "temp = sorted(mykeys)\n",
    "res = {i: mydict[i] for i in temp}\n",
    "res"
   ]
  },
  {
   "cell_type": "code",
   "execution_count": 84,
   "id": "aa82f8c7",
   "metadata": {},
   "outputs": [
    {
     "name": "stdout",
     "output_type": "stream",
     "text": [
      "1\n",
      "Not Found\n"
     ]
    }
   ],
   "source": [
    "# Handling missing keys in Python dictionaries\n",
    "d = { 'a' : 1 , 'b' : 2 }\n",
    "print(d.setdefault('a', 'Not Found'))\n",
    "print(d.setdefault('c', 'Not Found'))"
   ]
  },
  {
   "cell_type": "code",
   "execution_count": 85,
   "id": "eb1a6b74",
   "metadata": {},
   "outputs": [
    {
     "data": {
      "text/plain": [
       "600"
      ]
     },
     "execution_count": 85,
     "metadata": {},
     "output_type": "execute_result"
    }
   ],
   "source": [
    "# find the sum of all items in a dictionary\n",
    "d = {'a': 100, 'b': 200, 'c': 300}\n",
    "\n",
    "res = sum(d.values())\n",
    "res"
   ]
  },
  {
   "cell_type": "code",
   "execution_count": 86,
   "id": "e7b9dca6",
   "metadata": {},
   "outputs": [
    {
     "name": "stdout",
     "output_type": "stream",
     "text": [
      "[{'name': 'Nikhil', 'age': 19}, {'name': 'Manjeet', 'age': 20}, {'name': 'Nandini', 'age': 21}]\n",
      "\n",
      "[{'name': 'Nikhil', 'age': 19}, {'name': 'Manjeet', 'age': 20}, {'name': 'Nandini', 'age': 21}]\n"
     ]
    }
   ],
   "source": [
    "# Ways to sort list of dictionaries by values \n",
    "list1 = [{\"name\": \"Nandini\", \"age\": 21}, {\"name\": \"Manjeet\", \"age\": 20}, {\"name\": \"Nikhil\", \"age\": 19}]\n",
    "\n",
    "from operator import itemgetter\n",
    "res = sorted(list1, key=itemgetter('age'))\n",
    "print(res)\n",
    "\n",
    "print()\n",
    "\n",
    "res2 = sorted(list1, key=lambda x: x['age'])\n",
    "print(res2)"
   ]
  },
  {
   "cell_type": "code",
   "execution_count": 87,
   "id": "10b40d9d",
   "metadata": {},
   "outputs": [
    {
     "data": {
      "text/plain": [
       "{'a': 10, 'b': 8, 'd': 6, 'c': 4, 'e': 5}"
      ]
     },
     "execution_count": 87,
     "metadata": {},
     "output_type": "execute_result"
    }
   ],
   "source": [
    "# Merging two Dictionaries\n",
    "dict1 = {'a': 10, 'b': 8}\n",
    "dict2 = {'d': 6, 'c': 4, 'e': 5}\n",
    "\n",
    "'dict1.update(dict2)'\n",
    "\n",
    "'res = {**dict1, **dict2}'\n",
    "\n",
    "res = dict1 | dict2\n",
    "res"
   ]
  },
  {
   "cell_type": "code",
   "execution_count": 88,
   "id": "a0744927",
   "metadata": {},
   "outputs": [
    {
     "data": {
      "text/plain": [
       "OrderedDict([('c', 3), ('a', 1), ('b', 2)])"
      ]
     },
     "execution_count": 88,
     "metadata": {},
     "output_type": "execute_result"
    }
   ],
   "source": [
    "# Insertion at the beginning in OrderedDict, item to be inserted ('c', 3)\n",
    "original_dict = {'a':1, 'b':2}\n",
    "\n",
    "from collections import OrderedDict\n",
    "res = OrderedDict([('a', 1), ('b', 2)])\n",
    "res.update(c=3)\n",
    "res.move_to_end('c', last=False)\n",
    "res"
   ]
  },
  {
   "cell_type": "code",
   "execution_count": 89,
   "id": "1068bf30",
   "metadata": {},
   "outputs": [
    {
     "data": {
      "text/plain": [
       "{20, 80}"
      ]
     },
     "execution_count": 89,
     "metadata": {},
     "output_type": "execute_result"
    }
   ],
   "source": [
    "# Find common elements in three sorted arrays by dictionary intersection\n",
    "ar1 = [1, 5, 10, 20, 40, 80]\n",
    "ar2 = [6, 7, 20, 80, 100]\n",
    "ar3 = [3, 4, 15, 20, 30, 70, 80, 120]\n",
    "\n",
    "res = set(ar1) & set(ar2) & set(ar3)\n",
    "res"
   ]
  },
  {
   "cell_type": "code",
   "execution_count": 90,
   "id": "7fb64c19",
   "metadata": {},
   "outputs": [
    {
     "data": {
      "text/plain": [
       "'Best'"
      ]
     },
     "execution_count": 90,
     "metadata": {},
     "output_type": "execute_result"
    }
   ],
   "source": [
    "# Key with maximum unique values\n",
    "test_dict = {\"Gfg\" : [5, 7, 7, 7, 7], \"is\" : [6, 7, 7, 7], \"Best\" : [9, 9, 6, 5, 5]} \n",
    "\n",
    "res = sorted(test_dict, key=lambda x: len(set(test_dict[x])), reverse=True)[0]\n",
    "res"
   ]
  },
  {
   "cell_type": "code",
   "execution_count": 91,
   "id": "fd4c7800",
   "metadata": {},
   "outputs": [
    {
     "name": "stdout",
     "output_type": "stream",
     "text": [
      "g e k s "
     ]
    }
   ],
   "source": [
    "# Find all duplicate characters in string\n",
    "s = \"geeksforgeeks\"\n",
    "res = Counter(s)\n",
    "for ele, count in res.items():\n",
    "    if count > 1:\n",
    "        print(ele, end=' ')"
   ]
  },
  {
   "cell_type": "code",
   "execution_count": 92,
   "id": "7296b88f",
   "metadata": {},
   "outputs": [
    {
     "data": {
      "text/plain": [
       "defaultdict(list, {4: [4, 4, 4], 6: [6, 6], 2: [2, 2], 8: [8, 8], 5: [5]})"
      ]
     },
     "execution_count": 92,
     "metadata": {},
     "output_type": "execute_result"
    }
   ],
   "source": [
    "# Group Similar items to Dictionary Values List\n",
    "test_list = [4, 6, 6, 4, 2, 2, 4, 8, 5, 8] \n",
    "\n",
    "from collections import defaultdict\n",
    "res = defaultdict(list)\n",
    "for ele in test_list:\n",
    "    res[ele].append(ele)\n",
    "    \n",
    "res"
   ]
  },
  {
   "cell_type": "code",
   "execution_count": 93,
   "id": "ad799cfd",
   "metadata": {},
   "outputs": [
    {
     "data": {
      "text/plain": [
       "'geekforgeeks good and better for all CS aspirants'"
      ]
     },
     "execution_count": 93,
     "metadata": {},
     "output_type": "execute_result"
    }
   ],
   "source": [
    "# Replace words from Dictionary\n",
    "test_str = 'geekforgeeks best for geeks'\n",
    "repl_dict = {\"best\" : \"good and better\", \"geeks\" : \"all CS aspirants\"} \n",
    "\n",
    "res = \" \".join([repl_dict.get(ele, ele) for ele in test_str.split()])\n",
    "res"
   ]
  },
  {
   "cell_type": "code",
   "execution_count": 94,
   "id": "10c4ca54",
   "metadata": {},
   "outputs": [
    {
     "data": {
      "text/plain": [
       "'gfg is for'"
      ]
     },
     "execution_count": 94,
     "metadata": {},
     "output_type": "execute_result"
    }
   ],
   "source": [
    "# Remove Dictionary Key Words\n",
    "test_str = 'gfg is best for geeks'\n",
    "test_dict = {'geeks': 1, 'best': 6}\n",
    "\n",
    "res = \" \".join([word for word in test_str.split() if word.lower() not in test_dict])\n",
    "res"
   ]
  },
  {
   "cell_type": "code",
   "execution_count": 95,
   "id": "13554cfd",
   "metadata": {},
   "outputs": [
    {
     "data": {
      "text/plain": [
       "'Python is great and Java also'"
      ]
     },
     "execution_count": 95,
     "metadata": {},
     "output_type": "execute_result"
    }
   ],
   "source": [
    "# Remove all duplicates words from a given sentence\n",
    "input1 = 'Python is great and Java is also great'\n",
    "\n",
    "res = \" \".join(dict.fromkeys(input1.split()))\n",
    "res"
   ]
  },
  {
   "cell_type": "code",
   "execution_count": 96,
   "id": "a92a988f",
   "metadata": {},
   "outputs": [
    {
     "data": {
      "text/plain": [
       "[12, 20, 2]"
      ]
     },
     "execution_count": 96,
     "metadata": {},
     "output_type": "execute_result"
    }
   ],
   "source": [
    "# Extract values of Particular Key in Nested dict\n",
    "test_dict = {'Gfg' : {\"a\" : 7, \"b\" : 9, \"c\" : 12}, 'is' : {\"a\" : 15, \"b\" : 19, \"c\" : 20}, 'best' :{\"a\" : 5, \"b\" : 10, \"c\" : 2}}\n",
    "temp = \"c\"\n",
    "\n",
    "res = [val[temp] for key, val in test_dict.items() if temp in val]\n",
    "res"
   ]
  },
  {
   "cell_type": "code",
   "execution_count": 97,
   "id": "acaf5f76",
   "metadata": {},
   "outputs": [
    {
     "data": {
      "text/plain": [
       "[['gfg', 1, 3, 4], ['is', 7, 6], ['best', 4, 5]]"
      ]
     },
     "execution_count": 97,
     "metadata": {},
     "output_type": "execute_result"
    }
   ],
   "source": [
    "# Convert Key-Value list Dictionary to List of Lists\n",
    "test_dict = {'gfg': [1, 3, 4], 'is': [7, 6], 'best': [4, 5]}\n",
    "\n",
    "res = [[key] + val for key, val in test_dict.items()]\n",
    "res"
   ]
  },
  {
   "cell_type": "code",
   "execution_count": 98,
   "id": "a4fce1ee",
   "metadata": {},
   "outputs": [
    {
     "name": "stdout",
     "output_type": "stream",
     "text": [
      "[{'name': 'Gfg', 'number': 3}, {'name': 'is', 'number': 8}, {'name': 'Best', 'number': 10}, {'name': 'for', 'number': 18}, {'name': 'Geeks', 'number': 33}]\n"
     ]
    }
   ],
   "source": [
    "# Convert List to List of dictionaries\n",
    "test_list = [\"Gfg\", 3, \"is\", 8, \"Best\", 10, \"for\", 18, \"Geeks\", 33]\n",
    "\n",
    "key_list = ['name', 'number']\n",
    "res = [{key_list[0]: test_list[idx], key_list[1]: test_list[idx+1]} for idx in range(0, len(test_list), 2)]\n",
    "print(res)"
   ]
  },
  {
   "cell_type": "code",
   "execution_count": 99,
   "id": "94a2a843",
   "metadata": {},
   "outputs": [
    {
     "data": {
      "text/plain": [
       "{('a', 'b'): (1, 2), ('c', 'd'): (3, 4), ('e', 'f'): (5, 6)}"
      ]
     },
     "execution_count": 99,
     "metadata": {},
     "output_type": "execute_result"
    }
   ],
   "source": [
    "# Convert Lists of List to Dictionary\n",
    "test_list = [['a', 'b', 1, 2], ['c', 'd', 3, 4], ['e', 'f', 5, 6]]\n",
    "\n",
    "res = {tuple(sub[:2]): tuple(sub[2:]) for sub in test_list}\n",
    "res"
   ]
  },
  {
   "cell_type": "code",
   "execution_count": 100,
   "id": "3bf8aef8",
   "metadata": {},
   "outputs": [
    {
     "data": {
      "text/plain": [
       "[['Nikhil', 'Akash', 'Akshat'], [17, 18, 20], [21, 30, 10], [31, 12, 19]]"
      ]
     },
     "execution_count": 100,
     "metadata": {},
     "output_type": "execute_result"
    }
   ],
   "source": [
    "# Convert List of Dictionaries to List of Lists\n",
    "test_list = [{'Nikhil' : 17, 'Akash' : 18, 'Akshat' : 20}, {'Nikhil' : 21, 'Akash' : 30, 'Akshat' : 10}, {'Nikhil' : 31, 'Akash' : 12, 'Akshat' : 19}]\n",
    "\n",
    "res = [[key for key in test_list[0].keys()], *[list(idx.values()) for idx in test_list]]\n",
    "res"
   ]
  },
  {
   "cell_type": "code",
   "execution_count": 101,
   "id": "5fd8afc4",
   "metadata": {},
   "outputs": [
    {
     "data": {
      "text/plain": [
       "{1: 'Jan', 2: 'Feb', 3: 'March'}"
      ]
     },
     "execution_count": 101,
     "metadata": {},
     "output_type": "execute_result"
    }
   ],
   "source": [
    "# Convert key-values list to flat dictionary\n",
    "test_dict = {'month' : [1, 2, 3], 'name' : ['Jan', 'Feb', 'March']}\n",
    "\n",
    "res = dict(zip(test_dict['month'], test_dict['name']))\n",
    "res"
   ]
  },
  {
   "cell_type": "code",
   "execution_count": 102,
   "id": "13f29943",
   "metadata": {},
   "outputs": [
    {
     "name": "stdout",
     "output_type": "stream",
     "text": [
      "{'akash': [10], 'gaurav': [12], 'anand': [14], 'suraj': [20], 'akhil': [25], 'ashish': [30]}\n"
     ]
    }
   ],
   "source": [
    "# Convert a list of Tuples into Dictionary\n",
    "tups = [(\"akash\", 10), (\"gaurav\", 12), (\"anand\", 14), (\"suraj\", 20), (\"akhil\", 25), (\"ashish\", 30)]\n",
    "\n",
    "res = {ele[i]: [ele[i+1]] for ele in tups for i in range(len(ele)-1)}\n",
    "print(res)"
   ]
  },
  {
   "cell_type": "code",
   "execution_count": 103,
   "id": "a60bd117",
   "metadata": {},
   "outputs": [
    {
     "data": {
      "text/plain": [
       "[('x', (5, 1, 8)), ('y', (6, 4, 3))]"
      ]
     },
     "execution_count": 103,
     "metadata": {},
     "output_type": "execute_result"
    }
   ],
   "source": [
    "# Convert Nested dictionary to Mapped Tuple\n",
    "test_dict = {'gfg' : {'x' : 5, 'y' : 6}, 'is' : {'x' : 1, 'y' : 4}, 'best' : {'x' : 8, 'y' : 3}}\n",
    "\n",
    "res = [(key, tuple(sub[key] for sub in test_dict.values())) for key in test_dict['gfg']]\n",
    "res"
   ]
  },
  {
   "cell_type": "code",
   "execution_count": 104,
   "id": "6a372129",
   "metadata": {},
   "outputs": [
    {
     "data": {
      "text/plain": [
       "{'Jan ': ' January', ' Feb ': ' February', ' Mar ': ' March'}"
      ]
     },
     "execution_count": 104,
     "metadata": {},
     "output_type": "execute_result"
    }
   ],
   "source": [
    "# convert string to dictionary\n",
    "str1 = \"Jan = January; Feb = February; Mar = March\"\n",
    "\n",
    "res = dict(substr.split('=') for substr in str1.split(';'))\n",
    "res"
   ]
  },
  {
   "cell_type": "code",
   "execution_count": 105,
   "id": "4b25cdae",
   "metadata": {},
   "outputs": [
    {
     "data": {
      "text/plain": [
       "[{'Gfg': 1, 'is': 2}, {'best': 3, 'for': 4}, {'geeks': 5, 'CS': 6}]"
      ]
     },
     "execution_count": 105,
     "metadata": {},
     "output_type": "execute_result"
    }
   ],
   "source": [
    "# Convert dictionary to K sized dictionaries\n",
    "test_dict = {'Gfg' : 1, 'is' : 2, 'best' : 3, 'for' : 4, 'geeks' : 5, 'CS' : 6}\n",
    "K = 2\n",
    "\n",
    "res = [dict(list(test_dict.items())[i: i+K]) for i in range(0, len(test_dict), K)]\n",
    "res"
   ]
  },
  {
   "cell_type": "code",
   "execution_count": 106,
   "id": "7938b134",
   "metadata": {},
   "outputs": [
    {
     "data": {
      "text/plain": [
       "{1: [5, 6, 7], 2: [8, 3, 2], 3: [8, 2, 1]}"
      ]
     },
     "execution_count": 106,
     "metadata": {},
     "output_type": "execute_result"
    }
   ],
   "source": [
    "# Convert Matrix to dictionary\n",
    "test_list = [[5, 6, 7], [8, 3, 2], [8, 2, 1]] \n",
    "\n",
    "res = {idx+1: test_list[idx] for idx in range(len(test_list))}\n",
    "res"
   ]
  },
  {
   "cell_type": "code",
   "execution_count": 107,
   "id": "cc2c69a0",
   "metadata": {},
   "outputs": [
    {
     "data": {
      "text/plain": [
       "{8: {'Gfg': 4}, 3: {'is': 5}, 2: {'best': 9}}"
      ]
     },
     "execution_count": 107,
     "metadata": {},
     "output_type": "execute_result"
    }
   ],
   "source": [
    "# Create Nested Dictionary using given List\n",
    "test_dict = {'Gfg' : 4, 'is' : 5, 'best' : 9} \n",
    "test_list = [8, 3, 2] # keys\n",
    "\n",
    "res = {}\n",
    "for key, ele in zip(test_list, test_dict.items()):\n",
    "    res[key] = dict([ele])\n",
    "    \n",
    "res"
   ]
  },
  {
   "cell_type": "code",
   "execution_count": 108,
   "id": "d27c7cf5",
   "metadata": {},
   "outputs": [
    {
     "data": {
      "text/plain": [
       "{'best': 5, 'is': 2, 'gfg': 4}"
      ]
     },
     "execution_count": 108,
     "metadata": {},
     "output_type": "execute_result"
    }
   ],
   "source": [
    "# Reverse Dictionary Keys Order\n",
    "test_dict = {'gfg' : 4, 'is' : 2, 'best' : 5}\n",
    "\n",
    "res = dict(reversed(test_dict.items()))\n",
    "res"
   ]
  },
  {
   "cell_type": "code",
   "execution_count": 109,
   "id": "1400b120",
   "metadata": {},
   "outputs": [
    {
     "data": {
      "text/plain": [
       "{'Gfg': 3, 'for': 6, 'geeks': 'CS'}"
      ]
     },
     "execution_count": 109,
     "metadata": {},
     "output_type": "execute_result"
    }
   ],
   "source": [
    "#  Remove keys with Values Greater than K\n",
    "test_dict = {'Gfg' : 3, 'is' : 7, 'best' : 10, 'for' : 6, 'geeks' : 'CS'}\n",
    "K = 6\n",
    "\n",
    "res = {key: val for key, val in test_dict.items() if not (isinstance(val, int) and val > K)}\n",
    "res"
   ]
  },
  {
   "cell_type": "code",
   "execution_count": 110,
   "id": "d1180a0d",
   "metadata": {},
   "outputs": [
    {
     "data": {
      "text/plain": [
       "{1: 'Gfg is best for geeks'}"
      ]
     },
     "execution_count": 110,
     "metadata": {},
     "output_type": "execute_result"
    }
   ],
   "source": [
    "# Remove keys with substring values\n",
    "test_dict = {1 : 'Gfg is best for geeks', 2 : 'Gfg is good', 3 : 'I love Gfg'}\n",
    "sub_list = ['love', 'good']\n",
    "\n",
    "res = {key: val for key, val in test_dict.items() if not any(ele in val for ele in sub_list)}\n",
    "res"
   ]
  },
  {
   "cell_type": "code",
   "execution_count": 111,
   "id": "85cbc8c8",
   "metadata": {},
   "outputs": [
    {
     "data": {
      "text/plain": [
       "[1, 2, 5, 6, 7, 8, 10, 11, 12]"
      ]
     },
     "execution_count": 111,
     "metadata": {},
     "output_type": "execute_result"
    }
   ],
   "source": [
    "#  Extract Unique values from dictionary values\n",
    "test_dict = {'gfg': [5, 6, 7, 8], 'is': [10, 11, 7, 5], 'best': [6, 12, 10, 8], 'for': [1, 2, 5]}\n",
    "\n",
    "res = list(sorted({ele for val in test_dict.values() for ele in val}))\n",
    "res"
   ]
  },
  {
   "cell_type": "code",
   "execution_count": 112,
   "id": "194a926c",
   "metadata": {},
   "outputs": [
    {
     "data": {
      "text/plain": [
       "{'best': [4, 19], 'gfg': [3, 6, 7], 'is': [2, 3, 10]}"
      ]
     },
     "execution_count": 112,
     "metadata": {},
     "output_type": "execute_result"
    }
   ],
   "source": [
    "# Sort Dictionary key and values List\n",
    "test_dict = {'gfg': [7, 6, 3], 'is': [2, 10, 3], 'best': [19, 4]}\n",
    "\n",
    "res = {key : sorted(test_dict[key]) for key in sorted(test_dict)}\n",
    "res"
   ]
  },
  {
   "cell_type": "code",
   "execution_count": 113,
   "id": "99097f9d",
   "metadata": {},
   "outputs": [
    {
     "data": {
      "text/plain": [
       "{'is': 9, 'Gfg': 17, 'best': 18}"
      ]
     },
     "execution_count": 113,
     "metadata": {},
     "output_type": "execute_result"
    }
   ],
   "source": [
    "# Sort Dictionary by Values Summation\n",
    "test_dict = {'Gfg' : [6, 7, 4], 'is' : [4, 3, 2], 'best' : [7, 6, 5]} \n",
    "\n",
    "temp = {key : sum(map(lambda x: x, test_dict[key])) for key in test_dict}\n",
    "res = {key: temp[key] for key in sorted(temp, key=lambda x: temp[x])}\n",
    "res"
   ]
  },
  {
   "cell_type": "code",
   "execution_count": 114,
   "id": "3371908b",
   "metadata": {},
   "outputs": [
    {
     "name": "stdout",
     "output_type": "stream",
     "text": [
      "{'Nikhil': {'Maths': 2, 'English': 5, 'Science': 14}, 'Akash': {'Science': 2, 'Maths': 7, 'English': 15}, 'Akshat': {'English': 5, 'Science': 20, 'Maths': 50}}\n"
     ]
    }
   ],
   "source": [
    "# Sort Nested keys by Value\n",
    "test_dict = {'Nikhil' : {'English' : 5, 'Maths' :  2, 'Science' : 14}, 'Akash' : {'English' : 15, 'Maths' :  7, 'Science' : 2},\n",
    "             'Akshat' : {'English' : 5, 'Maths' :  50, 'Science' : 20}}\n",
    "\n",
    "res = {key: dict(sorted(val.items(), key=lambda x: x[1])) for key, val in test_dict.items()}\n",
    "print(res)"
   ]
  },
  {
   "cell_type": "code",
   "execution_count": 115,
   "id": "7987bdcc",
   "metadata": {},
   "outputs": [
    {
     "data": {
      "text/plain": [
       "{'Lipitor': 'Pfizer',\n",
       " 'Advil': 'Pfizer',\n",
       " 'Crestor': 'AstraZeneca',\n",
       " 'Tylenol': 'JohnsonandJohnson',\n",
       " 'Nexium': 'AstraZeneca',\n",
       " 'Xanax': 'Pfizer',\n",
       " 'Zoloft': 'Pfizer',\n",
       " 'Celebrex': 'Pfizer',\n",
       " 'Prozac': 'EliLilly'}"
      ]
     },
     "execution_count": 115,
     "metadata": {},
     "output_type": "execute_result"
    }
   ],
   "source": [
    "# Clean the data\n",
    "drug_company_data = {\n",
    "    'Lipitor': '@Pfizer',\n",
    "    'Adv^&*il': 'Pfizer',\n",
    "    'Crestor': 'AstraZeneca',\n",
    "    'T&*(ylenol': 'Johnson and Johnson',\n",
    "    '$Nexium': 'Astra@Zeneca',\n",
    "    'Xa&nax': 'Pfizer',\n",
    "    'Zoloft': '#Pfizer',\n",
    "    'Celebrex': 'Pfizer',\n",
    "    'Prozac': 'Eli L^^illy'\n",
    "}\n",
    "\n",
    "cleaned_data = {re.sub(r'[^A-Za-z0-9]', '', k): re.sub(r'[^A-Za-z0-9]', '', v) for k, v in drug_company_data.items()}\n",
    "cleaned_data"
   ]
  },
  {
   "cell_type": "markdown",
   "id": "8ca383cf",
   "metadata": {},
   "source": [
    "# Strings"
   ]
  },
  {
   "cell_type": "code",
   "execution_count": 116,
   "id": "a223a8bd",
   "metadata": {},
   "outputs": [
    {
     "data": {
      "text/plain": [
       "'much very programming love i'"
      ]
     },
     "execution_count": 116,
     "metadata": {},
     "output_type": "execute_result"
    }
   ],
   "source": [
    "# Reverse words in a given string\n",
    "s = 'i love programming very much'\n",
    "\n",
    "temp = list(s.split())\n",
    "res = \" \".join(temp[::-1])\n",
    "res"
   ]
  },
  {
   "cell_type": "code",
   "execution_count": 117,
   "id": "0ed3e5bd",
   "metadata": {},
   "outputs": [
    {
     "data": {
      "text/plain": [
       "'ap'"
      ]
     },
     "execution_count": 117,
     "metadata": {},
     "output_type": "execute_result"
    }
   ],
   "source": [
    "# Longest Common Prefix\n",
    "s = ['apple', 'ape', 'april']\n",
    "\n",
    "def prefix(arr):\n",
    "    result = arr[0]\n",
    "    length = len(result)\n",
    "    \n",
    "    for i in range(1, len(arr)):\n",
    "        while arr[i].find(result) != 0:\n",
    "            result = result[:length]\n",
    "            length -= 1\n",
    "            \n",
    "        if not result:\n",
    "            return \"-1\"\n",
    "        \n",
    "    return result\n",
    "\n",
    "prefix(s)"
   ]
  },
  {
   "cell_type": "code",
   "execution_count": 118,
   "id": "0da665cc",
   "metadata": {},
   "outputs": [
    {
     "data": {
      "text/plain": [
       "1904"
      ]
     },
     "execution_count": 118,
     "metadata": {},
     "output_type": "execute_result"
    }
   ],
   "source": [
    "# Converting Roman Numerals to Integer\n",
    "s = \"MCMIV\"\n",
    "\n",
    "def value(roman: str):\n",
    "    if roman == 'I':\n",
    "        return 1\n",
    "    if roman == 'V':\n",
    "        return 5\n",
    "    if roman == 'X':\n",
    "        return 10\n",
    "    if roman == 'L':\n",
    "        return 50\n",
    "    if roman == 'C':\n",
    "        return 100\n",
    "    if roman == 'D':\n",
    "        return 500\n",
    "    if roman == 'M':\n",
    "        return 1000\n",
    "    return -1\n",
    "\n",
    "def romantoint(string):\n",
    "    res = 0\n",
    "    i = 0\n",
    "    while i < len(string):\n",
    "        s1 = value(str(string[i]))\n",
    "        \n",
    "        if i+1 < len(string):\n",
    "            s2 = value(str(string[i+1]))\n",
    "            \n",
    "            if s1 >= s2:\n",
    "                res = res + s1\n",
    "                i = i+1\n",
    "            else:\n",
    "                res = res + s2 - s1\n",
    "                i = i+2\n",
    "                \n",
    "        else:\n",
    "            res = res + s1\n",
    "            i = i+1\n",
    "            \n",
    "    return res\n",
    "\n",
    "romantoint(s)"
   ]
  },
  {
   "cell_type": "code",
   "execution_count": 119,
   "id": "903cb27d",
   "metadata": {},
   "outputs": [
    {
     "data": {
      "text/plain": [
       "'MCMIV'"
      ]
     },
     "execution_count": 119,
     "metadata": {},
     "output_type": "execute_result"
    }
   ],
   "source": [
    "# Converting int to roman\n",
    "ls = [1000,900,500,400,100,90,50,40,10,9,5,4,1]\n",
    "d = {1:\"I\",4:\"IV\",5:\"V\",9:\"IX\",10:\"X\",40:\"XL\",50:\"L\",90:\"XC\",100:\"C\",400:\"CD\",500:\"D\",900:\"CM\",1000:\"M\"}\n",
    "ls2 = []\n",
    "\n",
    "def inttoroman(number: int, res: str):\n",
    "    for i in range(len(ls)):\n",
    "        if number in ls:\n",
    "            res = d[number]\n",
    "            remender = 0\n",
    "            break\n",
    "        \n",
    "        if ls[i] < number:\n",
    "            quo = number // ls[i]\n",
    "            remender = number % ls[i]\n",
    "            res = res + d[ls[i]]*quo\n",
    "            break\n",
    "            \n",
    "    ls2.append(res)\n",
    "    if remender == 0:\n",
    "        pass\n",
    "    else:\n",
    "        inttoroman(remender, '')\n",
    "        \n",
    "    return \"\".join(ls2)\n",
    "        \n",
    "inttoroman(1904, '')"
   ]
  },
  {
   "cell_type": "code",
   "execution_count": 120,
   "id": "3998f06d",
   "metadata": {},
   "outputs": [
    {
     "data": {
      "text/plain": [
       "3"
      ]
     },
     "execution_count": 120,
     "metadata": {},
     "output_type": "execute_result"
    }
   ],
   "source": [
    "# Find the minimum distance between the given two words\n",
    "S = [ \"the\", \"quick\", \"brown\", \"fox\", \"quick\" ]\n",
    "word1 = \"the\"\n",
    "word2 = \"fox\"\n",
    "\n",
    "def shortestdist(lst, w1, w2):\n",
    "    d1 = -1\n",
    "    d2 = -1\n",
    "    ans = 10000000000\n",
    "    \n",
    "    for i in range(len(lst)):\n",
    "        if lst[i] == w1:\n",
    "            d1 = i\n",
    "        if lst[i] == w2:\n",
    "            d2 = i\n",
    "        if d1 != -1 and d2 != -1:\n",
    "            ans = min(ans, abs(d1 - d2))\n",
    "            \n",
    "    return ans\n",
    "\n",
    "shortestdist(S, word1, word2)"
   ]
  },
  {
   "cell_type": "code",
   "execution_count": 121,
   "id": "ce3ffa49",
   "metadata": {},
   "outputs": [
    {
     "data": {
      "text/plain": [
       "True"
      ]
     },
     "execution_count": 121,
     "metadata": {},
     "output_type": "execute_result"
    }
   ],
   "source": [
    "# Check if the str is palindrome\n",
    "s = 'abcddcba'\n",
    "\n",
    "def palindrome(string):\n",
    "    string = string.lower()\n",
    "    left = 0\n",
    "    right = len(string) - 1\n",
    "    while left < right:\n",
    "        if string[left] == string[right]:\n",
    "            return True\n",
    "        left += 1\n",
    "        right -= 1\n",
    "    return False\n",
    "\n",
    "palindrome(s)"
   ]
  },
  {
   "cell_type": "code",
   "execution_count": 122,
   "id": "5809ae5c",
   "metadata": {},
   "outputs": [
    {
     "data": {
      "text/plain": [
       "131"
      ]
     },
     "execution_count": 122,
     "metadata": {},
     "output_type": "execute_result"
    }
   ],
   "source": [
    "# Smallest no > num which is palindrome\n",
    "def ispalindrome(n):\n",
    "    return str(n) == str(n)[::-1]\n",
    "def next_palindrome(N):\n",
    "    N += 1\n",
    "    while not ispalindrome(N):\n",
    "        N += 1\n",
    "        \n",
    "    return N\n",
    "\n",
    "next_palindrome(123)"
   ]
  },
  {
   "cell_type": "code",
   "execution_count": 123,
   "id": "18ccc0e5",
   "metadata": {},
   "outputs": [
    {
     "data": {
      "text/plain": [
       "'grimeS ricK iS namE mY'"
      ]
     },
     "execution_count": 123,
     "metadata": {},
     "output_type": "execute_result"
    }
   ],
   "source": [
    "# Input : my name is Rick\n",
    "\n",
    "# Output : ricK iS nameE mY\n",
    "\n",
    "def transform_str(s):\n",
    "    s = s.lower()\n",
    "    words = s.split()\n",
    "    reversed_words = words[::-1]\n",
    "\n",
    "    def transform_word(word):\n",
    "        if len(word) > 1:\n",
    "            return word[:-1] + word[-1].upper()\n",
    "        return word\n",
    "\n",
    "    transformed_words = [transform_word(word) for word in reversed_words]\n",
    "\n",
    "    result =  \" \".join(transformed_words)\n",
    "\n",
    "    return result\n",
    "\n",
    "transform_str('my name is Rick Grimes')"
   ]
  },
  {
   "cell_type": "code",
   "execution_count": 124,
   "id": "5b0e1bbb",
   "metadata": {},
   "outputs": [
    {
     "data": {
      "text/plain": [
       "'goksforgoks'"
      ]
     },
     "execution_count": 124,
     "metadata": {},
     "output_type": "execute_result"
    }
   ],
   "source": [
    "# replace a substring of a string\n",
    "def modifyingstr(S, s1, s2):\n",
    "    ans = ''\n",
    "    i = 0\n",
    "    while i < len(S):\n",
    "        k = 0\n",
    "        if S[i] == s1[k] and i + len(s1) <= len(S):\n",
    "            j = i\n",
    "            \n",
    "            while j < i + len(s1) and S[j] == s1[k]:\n",
    "                k += 1\n",
    "                j += 1\n",
    "            \n",
    "            if j == i + len(s1):\n",
    "                ans += s2\n",
    "                i = j-1\n",
    "            else:\n",
    "                ans += S[i]\n",
    "                i += 1\n",
    "            \n",
    "        else:\n",
    "            ans += S[i]\n",
    "        i += 1\n",
    "            \n",
    "    return ans\n",
    "\n",
    "S = \"geeksforgeeks\"\n",
    "s1 = \"eek\"\n",
    "s2 = \"ok\"\n",
    "modifyingstr(S, s1, s2)"
   ]
  },
  {
   "cell_type": "code",
   "execution_count": 125,
   "id": "827b41e2",
   "metadata": {},
   "outputs": [
    {
     "data": {
      "text/plain": [
       "4"
      ]
     },
     "execution_count": 125,
     "metadata": {},
     "output_type": "execute_result"
    }
   ],
   "source": [
    "# Longest prefix which is also suffix\n",
    "def longestsuffpref(S):\n",
    "    n = len(S)\n",
    "    if n < 2:\n",
    "        return 0\n",
    "    len_suff_pref = 0\n",
    "    i = 0\n",
    "    \n",
    "    while i < n // 2:\n",
    "        j1 = 0\n",
    "        j2 = (n-1) - i\n",
    "        is_suffix_prefix = True\n",
    "        \n",
    "        while j1 <= i:\n",
    "            if S[j1] != S[j2]:\n",
    "                is_suffix_prefix = False\n",
    "            j1 += 1\n",
    "            j2 += 1\n",
    "            \n",
    "        if is_suffix_prefix:\n",
    "            len_suff_pref = i+1\n",
    "        i+= 1\n",
    "        \n",
    "    return len_suff_pref\n",
    "\n",
    "S = \"aabcdaabc\"\n",
    "longestsuffpref(S)"
   ]
  },
  {
   "cell_type": "code",
   "execution_count": 126,
   "id": "494df7af",
   "metadata": {},
   "outputs": [
    {
     "data": {
      "text/plain": [
       "6"
      ]
     },
     "execution_count": 126,
     "metadata": {},
     "output_type": "execute_result"
    }
   ],
   "source": [
    "# Length of the longest valid substring\n",
    "def validsubstr(S):\n",
    "    n = len(S)\n",
    "    stack = []\n",
    "    result = 0\n",
    "    last = n\n",
    "    for i in range(n):\n",
    "        if S[i] == '(':\n",
    "            stack.append(i)\n",
    "        else:\n",
    "            if stack and S[stack[-1]] == '(':\n",
    "                stack.pop()\n",
    "            else:\n",
    "                stack.append(i)\n",
    "                \n",
    "    while stack:\n",
    "        now = stack.pop()\n",
    "        result = max(result, last-now-1)\n",
    "        last = now\n",
    "        \n",
    "    return max(result, last)\n",
    "\n",
    "S = \"()(()))))\"\n",
    "validsubstr(S)"
   ]
  },
  {
   "cell_type": "code",
   "execution_count": null,
   "id": "eef0232b",
   "metadata": {},
   "outputs": [],
   "source": []
  }
 ],
 "metadata": {
  "kernelspec": {
   "display_name": "Python 3 (ipykernel)",
   "language": "python",
   "name": "python3"
  },
  "language_info": {
   "codemirror_mode": {
    "name": "ipython",
    "version": 3
   },
   "file_extension": ".py",
   "mimetype": "text/x-python",
   "name": "python",
   "nbconvert_exporter": "python",
   "pygments_lexer": "ipython3",
   "version": "3.9.7"
  }
 },
 "nbformat": 4,
 "nbformat_minor": 5
}
